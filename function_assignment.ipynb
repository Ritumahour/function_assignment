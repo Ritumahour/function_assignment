{
  "nbformat": 4,
  "nbformat_minor": 0,
  "metadata": {
    "colab": {
      "provenance": [],
      "authorship_tag": "ABX9TyOd5Pga3m6DLOL2ascxrqNm",
      "include_colab_link": true
    },
    "kernelspec": {
      "name": "python3",
      "display_name": "Python 3"
    },
    "language_info": {
      "name": "python"
    }
  },
  "cells": [
    {
      "cell_type": "markdown",
      "metadata": {
        "id": "view-in-github",
        "colab_type": "text"
      },
      "source": [
        "<a href=\"https://colab.research.google.com/github/Ritumahour/function_assignment/blob/main/function_assignment.ipynb\" target=\"_parent\"><img src=\"https://colab.research.google.com/assets/colab-badge.svg\" alt=\"Open In Colab\"/></a>"
      ]
    },
    {
      "cell_type": "markdown",
      "source": [
        "Theory answers.\n"
      ],
      "metadata": {
        "id": "rnv4G6prrmOZ"
      }
    },
    {
      "cell_type": "markdown",
      "source": [
        "1. What is the difference between a function and a method in Python?"
      ],
      "metadata": {
        "id": "iMVmyTF7ryWN"
      }
    },
    {
      "cell_type": "markdown",
      "source": [
        "Ans. Functions: These are independent blocks of code that perform a specific task. They can be called by name and are useful for breaking programs into smaller, modular chunks. Functions promote code reusability.\n",
        ". Functions are independent and can be called from anywhere.\n",
        ". Functions offer modularity and reusability .\n",
        "\n",
        "Example:\n",
        "def function_name():\n",
        "    print('hello world')\n",
        "function_name()\n",
        "\n",
        "\n",
        "Method: Methods enable us to encapsulate behaviors within objects, adhering to the principles of object-oriented programming.\n",
        "Methods are associated with objects or classes and need an object or class instance to be invoked. They are accessed using dot notation and are dependent on the class they are associated with. Methods offer behavior specific to objects.\n",
        "\n",
        "Example: we can use .aapend, .insert,.pop etc\n",
        "grocery_list = ['potato','mango','carrot']\n",
        "print(grocery_list)\n",
        "'potato','mango','carrot'\n",
        "grocery_list.insert = (1,'apple')\n",
        "'potato','apple','mango','carrot'\n"
      ],
      "metadata": {
        "id": "314_raqxr4Mn"
      }
    },
    {
      "cell_type": "markdown",
      "source": [
        "2. Explain the concept of function arguments and parameters in Python."
      ],
      "metadata": {
        "id": "-D5nHU4C3J_2"
      }
    },
    {
      "cell_type": "markdown",
      "source": [
        "Ans. Function arguments and parameters are both related to information passed to a function, but they have different roles:\n",
        "\n",
        "Parameters: These are variables listed in the parentheses of a function's definition. They act as placeholders for the data the function will use. Parameters define the number and type of inputs a function can accept, and they are part of the function's signature.\n",
        "\n",
        "example:\n",
        "def area(length, width):\n",
        "    Parameters: length, width (Placeholder Values)\n",
        "    return length * width\n",
        "\n",
        "Arguments: These are the actual values passed to a function when it is called. Arguments provide the flexibility to pass different values to a function, allowing for dynamic execution.\n",
        "In other words, they are the values that are used to replace the placeholders (parameters) in the function definition.\n",
        "arguments are passed within the parentheses of a function call.\n",
        "\n",
        "example:\n",
        "def area(length, width):\n",
        "    Parameters: length, width (Placeholder Values)\n",
        "    return length * width\n",
        "# Arguments: 10, 20 (Actual values)\n",
        "result = area(10, 20)\n",
        "print(result)\n",
        "10 * 20 = 200\n"
      ],
      "metadata": {
        "id": "U8UcJrxWxoJe"
      }
    },
    {
      "cell_type": "markdown",
      "source": [
        "3. What are the different ways to define and call a function in Python?"
      ],
      "metadata": {
        "id": "_we-QekO3a8z"
      }
    },
    {
      "cell_type": "markdown",
      "source": [
        "Ans. Functions are integral parts of every programming language because they help make your code more modular and reusable.\n",
        "\n",
        "In this article, I will show you how to define a function in Python and call it, so you can break down the code of your Python applications into smaller chunks.\n",
        "\n",
        "I will also show you how arguments and the return keyword works in Python functions.\n",
        "Basic Syntax for Defining a Function:\n",
        "In Python, you define a function with the def keyword, then write the function identifier (name) followed by parentheses and a colon.\n",
        "\n",
        "The next thing you have to do is make sure you indent with a tab or 4 spaces, and then specify what you want the function to do for you.\n",
        "\n",
        "example:\n",
        "def myfunction():\n",
        "    print(\"Hello World\")\n",
        "To call this function, write the name of the function followed by parentheses:\n",
        "myfunction()\n"
      ],
      "metadata": {
        "id": "dGMO_8sZ3kyq"
      }
    },
    {
      "cell_type": "markdown",
      "source": [
        "4. What is the purpose of the `return` statement in a Python function?"
      ],
      "metadata": {
        "id": "NxxFQf5L4Vvc"
      }
    },
    {
      "cell_type": "markdown",
      "source": [
        "Ans. The purpose of the return statement in a Python function is to specify the value or values to pass back from the function to the caller. The return statement marks the end of a function.\n",
        "Here are some things to know about the return statement in Python:\n",
        "Return value\n",
        "The value or values returned by a function are known as the function's return value. The return value can be any Python object, including integers, floats, strings, lists, dictionaries, and even other functions.\n",
        "Assigning the return value\n",
        "The returned values can be assigned to a variable and used for further computations or stored for later use.\n",
        "Multiple return values\n",
        "A function can return multiple values separated by commas.\n",
        "Implicit return\n",
        "If a function doesn't specify a return value, it implicitly returns None, which is Python's way of representing \"nothing\" or \"no value here\".\n",
        "\n",
        "exmple:\n",
        "def calculate_total_price(product_prices, tax_rate, discount):\n",
        "\tsubtotal = sum(product_prices)\n",
        "\ttax_amount = subtotal * tax_rate\n",
        "\tdiscount_amount = subtotal * discount\n",
        "\ttotal_price = subtotal + tax_amount - discount_amount\n",
        "\treturn total_price"
      ],
      "metadata": {
        "id": "_6FISf524Zow"
      }
    },
    {
      "cell_type": "markdown",
      "source": [
        "5. What are iterators in Python and how do they differ from iterables?"
      ],
      "metadata": {
        "id": "2Jf4L2OM5gUy"
      }
    },
    {
      "cell_type": "markdown",
      "source": [
        "Ans. Iterator is an object that can be used to loop through iterable objects, like lists, tuples, sets, and dictionaries:\n",
        "__iter__(): Returns the iterator object\n",
        "__next__(): Returns the next item in the sequence .\n",
        "Iterators are used in for loops, comprehensions, and generators. They help to write cleaner code by allowing you to work with endless sequences without having to reallocate resources for each sequence.\n",
        "\n",
        "Iterable is an object, that one can iterate over. It generates an Iterator when passed to iter() method. An iterator is an object, which is used to iterate over an iterable object using the __next__() method. Iterators have the __next__() method, which returns the next item of the object.\n",
        "\n",
        "exmple:\n",
        "code\n",
        "s=\"GFG\"\n",
        "s=iter(s)\n",
        "print(s)\n",
        "print(next(s))\n",
        "print(next(s))\n",
        "print(next(s))\n",
        "Output:\n",
        "<str_iterator object at 0x7f822a9c3210>\n",
        "G\n",
        "F\n",
        "G\n"
      ],
      "metadata": {
        "id": "3UQ4bm3A5kD0"
      }
    },
    {
      "cell_type": "markdown",
      "source": [
        "6. Explain the concept of generators in Python and how they are defined."
      ],
      "metadata": {
        "id": "XdZd7hrs7E31"
      }
    },
    {
      "cell_type": "markdown",
      "source": [
        "Ans. A generator function in Python is defined like a normal function, but whenever it needs to generate a value, it does so with the yield keyword rather than return. If the body of a def contains yield, the function automatically becomes a Python generator function.\n",
        "Create a Generator in Python:\n",
        "In Python, we can create a generator function by simply using the def keyword and the yield keyword. The generator has the following syntax in Python:\n",
        "\n",
        "def function_name():\n",
        "    yield statement\n",
        "example:\n",
        "# A generator function that yields 1 for first time,\n",
        "# 2 second time and 3 third time\n",
        "def simpleGeneratorFun():\n",
        "    yield 1            \n",
        "    yield 2            \n",
        "    yield 3            \n",
        "\n",
        "# Driver code to check above generator function\n",
        "for value in simpleGeneratorFun():\n",
        "    print(value)\n",
        "Output:\n",
        "1\n",
        "2\n",
        "3"
      ],
      "metadata": {
        "id": "exBmB9rf7H-_"
      }
    },
    {
      "cell_type": "markdown",
      "source": [
        "7. What are the advantages of using generators over regular functions?"
      ],
      "metadata": {
        "id": "3Eplwz_p74oB"
      }
    },
    {
      "cell_type": "markdown",
      "source": [
        "Ans: Generators have several advantages over regular functions, including:\n",
        "\n",
        ". Memory efficiency: Generators yield values one at a time, so they don't need to store all values in memory at once. This can be especially useful when working with large data sets.\n",
        ". Readability: Generators can make code easier to understand by breaking up the iteration process into smaller chunks.\n",
        ". Speed: Generators can be faster than regular loops, especially when working with large data sets.\n",
        ". Cooperative multitasking: Generator functions can pause their execution and resume later, allowing for cooperative multitasking.\n",
        ". Iterative algorithm definition: Generator functions allow you to define an iterative algorithm by writing a single function."
      ],
      "metadata": {
        "id": "VQIbmbtQ8xzN"
      }
    },
    {
      "cell_type": "markdown",
      "source": [
        "8. What is a lambda function in Python and when is it typically used?"
      ],
      "metadata": {
        "id": "OTgfPrWF73i_"
      }
    },
    {
      "cell_type": "markdown",
      "source": [
        "Ans:  lambda function is a small, anonymous function that's used for short-term operations that are best written in a single line. Lambda functions are often used as arguments to higher-order functions like map(), filter(), and reduce().\n",
        "\n",
        "Here are some characteristics of lambda functions:\n",
        "\n",
        ". Anonymous: Lambda functions are defined without a name.\n",
        ". Single-line syntax: Lambda functions are defined in a single line.\n",
        ". One expression: Lambda functions can only have one expression.\n",
        ". Multiple arguments: Lambda functions can take any number of arguments.\n",
        ". Similar to regular functions: Lambda functions behave similarly to regular functions, but have a different syntax.\n",
        ". Passed as arguments: Lambda functions are often passed as arguments to higher-order functions.\n",
        "\n",
        "Lambda functions are ideal for simple tasks like basic data transformations or mathematical calculations. However, for more complex operations, regular functions are preferred because they are more readable and maintainable.\n",
        "\n",
        "example:\n",
        "def check_conditions(x):\n",
        "    if x > 10:\n",
        "        return x * 10\n",
        "    elif x < 5:\n",
        "        return x * 5\n",
        "    else:\n",
        "        return x\n",
        "\n",
        "check_conditions(11)\n",
        "output:\n",
        "110"
      ],
      "metadata": {
        "id": "McffATlp9_s5"
      }
    },
    {
      "cell_type": "markdown",
      "source": [
        "9. Explain the purpose and usage of the `map()` function in Python."
      ],
      "metadata": {
        "id": "9idvNn-r_A9J"
      }
    },
    {
      "cell_type": "markdown",
      "source": [
        "Ans: The map() function in Python applies a function to each item in an iterable, such as a list or tuple, and returns a result. It's used when you want to apply a single transformation to all the elements in an iterable. The map() function is often more performant than a for loop because it applies the function to each item one at a time, instead of making copies of the items.\n",
        "\n",
        "Here are some ways you can use the map() function:\n",
        "\n",
        ". Calculations: Apply a consistent transformation to each element in a list of\n",
        "  numbers.\n",
        ". Processing strings: Convert all strings in a list to uppercase.\n",
        ". Mapping lists: Process multiple lists at once by passing multiple sequences  \n",
        "  to the map() function.\n",
        ". Filtering and mapping data: Preprocess and filter data in data analytics\n",
        "  platforms.\n",
        ". Updating data in Django models: Update a list of user records in web\n",
        "  applications like Django.\n",
        ". Generating HTML elements: Dynamically generate HTML code from a data list in\n",
        "  web development frameworks.\n",
        "\n",
        "The map() function returns a map object, which is an iterator that can be converted to sequence objects like lists or tuples.\n",
        "\n",
        "example:\n",
        "\n",
        "org_list = [1, 2, 3, 4, 5]\n",
        "fin_list = []\n",
        "\n",
        "for num in org_list:\n",
        "    fin_list.append(num**3)\n",
        "\n",
        "print(fin_list) # [1, 8, 27, 64, 125]\n",
        "\n"
      ],
      "metadata": {
        "id": "W4EFSBBA_bgr"
      }
    },
    {
      "cell_type": "markdown",
      "source": [
        "10. What is the difference between `map()`, `reduce()`, and `filter()` functions in Python?"
      ],
      "metadata": {
        "id": "ME_y9nYHAjQR"
      }
    },
    {
      "cell_type": "markdown",
      "source": [
        "Ans. Defining Map, Reduce and Filter operations:\n",
        "The 'Map' operation in programming refers to the transformation of data from one form into another. The 'Reduce' operation is a method for combining the elements of a list into a single result, while 'Filter' is a method for selecting a subset of items from a list based on a particular condition.\n",
        "\n",
        "In summary, 'Map', 'Reduce', and 'Filter' operations in Computer Science refer to:\n",
        "Map: Transformation of one form of data into another\n",
        "Reduce: Combination of list elements into a single result\n",
        "Filter: Selection of list subset based on a certain condition\n",
        "\n",
        "The Fundamentals of Map Reduce and Filter:\n",
        "Map takes a function and an array as its inputs. It applies the function to each element in the array and returns an array of the results. The Reducefunction also takes a function and an array as inputs, but it returns a single output value which is the result of the function applied sequentially to the elements of the array.\n",
        "\n",
        "\n",
        "example:\n",
        "Suppose we have the following array:\n",
        "array = [15,8,4,12,5,2,0,8]\n",
        "\n",
        "Now, if we wish to square each number in the array, the Map function would come in handy:\n",
        "\n",
        "\n",
        "function square(n) {\n",
        "  return n * n;\n",
        "}\n",
        "let mapped = array.map(square);\n",
        "\n",
        "// Result: [225, 64, 16, 144, 25, 4, 0, 64]\n",
        "\n",
        "The Filter function could be used if we wanted to filter out the even numbers in the array:\n",
        "function isEven(n) {\n",
        "  return n % 2 == 0;\n",
        "}\n",
        "let filtered = array.filter(isEven);\n",
        "\n",
        "// Result: [8, 4, 2, 0, 8]\n",
        "\n",
        "If we wanted to find the sum of all numbers in a list, the Reduce function would be most suitable.\n",
        "function sum(a, b) {\n",
        "  return a + b;\n",
        "}\n",
        "let reduced = array.reduce(sum);\n",
        "\n",
        "// Result: 54\n"
      ],
      "metadata": {
        "id": "Myp-U4rWAnp5"
      }
    },
    {
      "cell_type": "markdown",
      "source": [
        "11. Using pen & Paper write the internal mechanism for sum operation using  reduce function on this given\n",
        "list:[47,11,42,13];\n",
        "Ans. ![WhatsApp Image 2024-09-22 at 11.47.52 AM.jpeg]( answer of the question)  \n"
      ],
      "metadata": {
        "id": "0fW2v1y9goCz"
      }
    },
    {
      "cell_type": "markdown",
      "source": [
        "Practical Answers:-\n"
      ],
      "metadata": {
        "id": "J_gIqKd1tfiT"
      }
    },
    {
      "cell_type": "markdown",
      "source": [
        "1. Write a Python function that takes a list of numbers as input and returns the sum of all even numbers in the list."
      ],
      "metadata": {
        "id": "aH1ATY86tn4K"
      }
    },
    {
      "cell_type": "code",
      "source": [
        "def sum_of_evens(numbers):\n",
        "    return sum (num for num in numbers if num % 2 == 0)\n",
        "numbers = [1,2,3,4,5,6]\n",
        "result = sum_of_evens(numbers)\n",
        "print(result)"
      ],
      "metadata": {
        "colab": {
          "base_uri": "https://localhost:8080/"
        },
        "id": "l16kDXi1zzwz",
        "outputId": "f26e6de5-e5a0-430d-facd-ad6f1711ed26"
      },
      "execution_count": null,
      "outputs": [
        {
          "output_type": "stream",
          "name": "stdout",
          "text": [
            "12\n"
          ]
        }
      ]
    },
    {
      "cell_type": "markdown",
      "source": [
        "2. Create a Python function that accepts a string and returns the reverse of that string."
      ],
      "metadata": {
        "id": "l-MP2I6b1Qo6"
      }
    },
    {
      "cell_type": "code",
      "source": [
        "def reverse_string(s):\n",
        "    return s[::-1]\n",
        "input_string = \"Hello, world!\"\n",
        "result = reverse_string(input_string)\n",
        "print(result)\n"
      ],
      "metadata": {
        "colab": {
          "base_uri": "https://localhost:8080/"
        },
        "id": "2oozWEK61jtb",
        "outputId": "6d584ae9-ea9c-45ce-8a48-a04eb48400a8"
      },
      "execution_count": null,
      "outputs": [
        {
          "output_type": "stream",
          "name": "stdout",
          "text": [
            "!dlrow ,olleH\n"
          ]
        }
      ]
    },
    {
      "cell_type": "markdown",
      "source": [
        "3. Implement a Python function that takes a list of integers and returns a new list containing the squares of\n",
        "each number."
      ],
      "metadata": {
        "id": "MUdpM1dG2doR"
      }
    },
    {
      "cell_type": "code",
      "source": [
        "def square_numbers(numbers):\n",
        "    return [num ** 2 for num in numbers]\n",
        "input_list = [1, 2, 3, 4, 5]\n",
        "result = square_numbers(input_list)\n",
        "print(result)"
      ],
      "metadata": {
        "colab": {
          "base_uri": "https://localhost:8080/"
        },
        "id": "rjDigtJ82l0y",
        "outputId": "1c8b2596-b166-4565-ce35-fcaa8139c201"
      },
      "execution_count": null,
      "outputs": [
        {
          "output_type": "stream",
          "name": "stdout",
          "text": [
            "[1, 4, 9, 16, 25]\n"
          ]
        }
      ]
    },
    {
      "cell_type": "markdown",
      "source": [
        "4. Write a Python function that checks if a given number is prime or not from 1 to 200."
      ],
      "metadata": {
        "id": "uIYPRoXT4W00"
      }
    },
    {
      "cell_type": "code",
      "source": [
        "def is_prime(n):\n",
        "    if n < 2:\n",
        "       return False\n",
        "    for i in range(2, int(n**0.5) + 1):\n",
        "        if n % i == 0:\n",
        "            return False\n",
        "    return True\n",
        "number = 29\n",
        "result = is_prime(number)\n",
        "print(result)"
      ],
      "metadata": {
        "colab": {
          "base_uri": "https://localhost:8080/"
        },
        "id": "gxAsRC_m4cTQ",
        "outputId": "a9400ead-d098-42cb-ee1e-c9172b4846f8"
      },
      "execution_count": null,
      "outputs": [
        {
          "output_type": "stream",
          "name": "stdout",
          "text": [
            "True\n"
          ]
        }
      ]
    },
    {
      "cell_type": "markdown",
      "source": [
        "5. Create an iterator class in Python that generates the Fibonacci sequence up to a specified number of terms.\n"
      ],
      "metadata": {
        "id": "PWbZ8nI353sv"
      }
    },
    {
      "cell_type": "code",
      "source": [
        "# fibonacchi series\n",
        "def fibonacchi(n):\n",
        "       a, b = 0, 1\n",
        "       for i in range(n):\n",
        "           yield a\n",
        "           a, b = b, a+b"
      ],
      "metadata": {
        "id": "4IXFFpSLzYtY"
      },
      "execution_count": null,
      "outputs": []
    },
    {
      "cell_type": "code",
      "source": [
        "f = fibonacchi(1000)"
      ],
      "metadata": {
        "id": "Ue2rKOn37i0K"
      },
      "execution_count": null,
      "outputs": []
    },
    {
      "cell_type": "code",
      "source": [
        "next(f)"
      ],
      "metadata": {
        "colab": {
          "base_uri": "https://localhost:8080/"
        },
        "id": "9g8Axxh78TSa",
        "outputId": "af1e18bb-097d-442c-a1ce-e1c1b246478c"
      },
      "execution_count": null,
      "outputs": [
        {
          "output_type": "execute_result",
          "data": {
            "text/plain": [
              "0"
            ]
          },
          "metadata": {},
          "execution_count": 16
        }
      ]
    },
    {
      "cell_type": "code",
      "source": [
        "next(f)"
      ],
      "metadata": {
        "colab": {
          "base_uri": "https://localhost:8080/"
        },
        "id": "d4gOW5l-9uSb",
        "outputId": "1dbfed67-00b3-48c3-df42-986de0a41c92"
      },
      "execution_count": null,
      "outputs": [
        {
          "output_type": "execute_result",
          "data": {
            "text/plain": [
              "1"
            ]
          },
          "metadata": {},
          "execution_count": 17
        }
      ]
    },
    {
      "cell_type": "code",
      "source": [
        "next(f)"
      ],
      "metadata": {
        "colab": {
          "base_uri": "https://localhost:8080/"
        },
        "id": "5D-gSSXC9z9F",
        "outputId": "39128659-ed90-4c0c-e9c8-93d8e370857b"
      },
      "execution_count": null,
      "outputs": [
        {
          "output_type": "execute_result",
          "data": {
            "text/plain": [
              "1"
            ]
          },
          "metadata": {},
          "execution_count": 18
        }
      ]
    },
    {
      "cell_type": "code",
      "source": [
        "next(f)"
      ],
      "metadata": {
        "colab": {
          "base_uri": "https://localhost:8080/"
        },
        "id": "7m7R2boa98Wc",
        "outputId": "38ddf2c3-f4d7-4789-f0f7-6e64ecd12ce0"
      },
      "execution_count": null,
      "outputs": [
        {
          "output_type": "execute_result",
          "data": {
            "text/plain": [
              "2"
            ]
          },
          "metadata": {},
          "execution_count": 19
        }
      ]
    },
    {
      "cell_type": "code",
      "source": [
        "next(f)"
      ],
      "metadata": {
        "colab": {
          "base_uri": "https://localhost:8080/"
        },
        "id": "qSScW_7a-BAz",
        "outputId": "41791c32-e4a3-432a-aa1c-5b0b48ff929c"
      },
      "execution_count": null,
      "outputs": [
        {
          "output_type": "execute_result",
          "data": {
            "text/plain": [
              "3"
            ]
          },
          "metadata": {},
          "execution_count": 20
        }
      ]
    },
    {
      "cell_type": "code",
      "source": [
        "next(f)"
      ],
      "metadata": {
        "colab": {
          "base_uri": "https://localhost:8080/"
        },
        "id": "6PSpMKLA-EhO",
        "outputId": "9714db63-5cbc-4dbc-b9dc-d1dc25725e18"
      },
      "execution_count": null,
      "outputs": [
        {
          "output_type": "execute_result",
          "data": {
            "text/plain": [
              "5"
            ]
          },
          "metadata": {},
          "execution_count": 21
        }
      ]
    },
    {
      "cell_type": "code",
      "source": [
        "next(f)"
      ],
      "metadata": {
        "colab": {
          "base_uri": "https://localhost:8080/"
        },
        "id": "lmjb7ZwU-H6g",
        "outputId": "47600d6c-3926-4403-9afb-7a55107b368e"
      },
      "execution_count": null,
      "outputs": [
        {
          "output_type": "execute_result",
          "data": {
            "text/plain": [
              "8"
            ]
          },
          "metadata": {},
          "execution_count": 22
        }
      ]
    },
    {
      "cell_type": "code",
      "source": [
        "next(f)"
      ],
      "metadata": {
        "colab": {
          "base_uri": "https://localhost:8080/"
        },
        "id": "eteNRt9z-Kte",
        "outputId": "a60750b9-3917-40fd-ce5c-ec28cc5cd2c6"
      },
      "execution_count": null,
      "outputs": [
        {
          "output_type": "execute_result",
          "data": {
            "text/plain": [
              "13"
            ]
          },
          "metadata": {},
          "execution_count": 23
        }
      ]
    },
    {
      "cell_type": "code",
      "source": [
        "next(f)"
      ],
      "metadata": {
        "colab": {
          "base_uri": "https://localhost:8080/"
        },
        "id": "3YPSZnme-OxC",
        "outputId": "53434a7a-e460-480f-b653-a3dae72b346d"
      },
      "execution_count": null,
      "outputs": [
        {
          "output_type": "execute_result",
          "data": {
            "text/plain": [
              "21"
            ]
          },
          "metadata": {},
          "execution_count": 24
        }
      ]
    },
    {
      "cell_type": "code",
      "source": [
        "next(f)"
      ],
      "metadata": {
        "colab": {
          "base_uri": "https://localhost:8080/"
        },
        "id": "QZfPhjRf-R61",
        "outputId": "6f094ec6-f535-4480-bee2-c2bad0bc9709"
      },
      "execution_count": null,
      "outputs": [
        {
          "output_type": "execute_result",
          "data": {
            "text/plain": [
              "34"
            ]
          },
          "metadata": {},
          "execution_count": 25
        }
      ]
    },
    {
      "cell_type": "code",
      "source": [
        "next(f)"
      ],
      "metadata": {
        "colab": {
          "base_uri": "https://localhost:8080/"
        },
        "id": "jbt3P62H-hOQ",
        "outputId": "215811a7-817d-476d-d4c5-e80ed74eaf30"
      },
      "execution_count": null,
      "outputs": [
        {
          "output_type": "execute_result",
          "data": {
            "text/plain": [
              "55"
            ]
          },
          "metadata": {},
          "execution_count": 26
        }
      ]
    },
    {
      "cell_type": "markdown",
      "source": [
        "6. Write a generator function in Python that yields the powers of 2 up to a given exponent."
      ],
      "metadata": {
        "id": "ZxWhjPAi2a6c"
      }
    },
    {
      "cell_type": "code",
      "source": [
        "def powers_of_two(n):\n",
        "    \"\"\" Yield power of 2 from 0 to n.\"\"\"\n",
        "    for i in range (n+1):\n",
        "        yield 2 ** i\n",
        "\n",
        "for power in powers_of_two(5):\n",
        "    print(power)"
      ],
      "metadata": {
        "colab": {
          "base_uri": "https://localhost:8080/"
        },
        "id": "HU3Yn8ze2esP",
        "outputId": "406a961e-6582-4c1a-de8f-480498b3270f"
      },
      "execution_count": null,
      "outputs": [
        {
          "output_type": "stream",
          "name": "stdout",
          "text": [
            "1\n",
            "2\n",
            "4\n",
            "8\n",
            "16\n",
            "32\n"
          ]
        }
      ]
    },
    {
      "cell_type": "markdown",
      "source": [
        "7. Implement a generator function that reads a file line by line and yields each line as a string."
      ],
      "metadata": {
        "id": "TmN3zHa6bALM"
      }
    },
    {
      "cell_type": "code",
      "source": [
        "def read_file_line_by_line(file_path):\n",
        "  \"\"\"Generator function to read a file line by line.\"\"\"\n",
        "  try:\n",
        "     with open(file_path, 'r') as file:\n",
        "         for line in file:\n",
        "             yield line.rstrip('\\n') # Yield each line without thw newline charcter\n",
        "  except FileNotFoundError:\n",
        "      print(f\"The file at {file_path} does not exist.\")\n",
        "  except IOError as e:\n",
        "      print(f\"An error occurred while reading the file: {e}\")\n",
        "file_path = 'example.txt' # Replace with your file path\n",
        "for line in read_file_line_by_line(file_path):\n",
        "    print(line)\n"
      ],
      "metadata": {
        "colab": {
          "base_uri": "https://localhost:8080/"
        },
        "id": "JEuxP6trbF4r",
        "outputId": "eb95d7ee-6a96-428e-8055-6fcd4264ab46"
      },
      "execution_count": 13,
      "outputs": [
        {
          "output_type": "stream",
          "name": "stdout",
          "text": [
            "The file at example.txt does not exist.\n"
          ]
        }
      ]
    },
    {
      "cell_type": "markdown",
      "source": [
        "8. Use a lambda function in Python to sort a list of tuples based on the second element of each tuple."
      ],
      "metadata": {
        "id": "eeCzS3_BDme_"
      }
    },
    {
      "cell_type": "code",
      "source": [
        "tuples_list = [(1,'apple'), (3,'banana'),(2,'orange'),(4,'grape')]\n",
        "sorted_tuples = sorted(tuples_list, key=lambda x: x[1])\n",
        "print(sorted_tuples)"
      ],
      "metadata": {
        "colab": {
          "base_uri": "https://localhost:8080/"
        },
        "id": "rHdz8m2MDohL",
        "outputId": "9d3c1d32-7a51-4a37-a407-1de36652576a"
      },
      "execution_count": null,
      "outputs": [
        {
          "output_type": "stream",
          "name": "stdout",
          "text": [
            "[(1, 'apple'), (3, 'banana'), (4, 'grape'), (2, 'orange')]\n"
          ]
        }
      ]
    },
    {
      "cell_type": "markdown",
      "source": [
        "9. Write a Python program that uses `map()` to convert a list of temperatures from Celsius to Fahrenheit."
      ],
      "metadata": {
        "id": "9Af4EmX2E2qf"
      }
    },
    {
      "cell_type": "code",
      "source": [
        "celsius_temps = [0, 20, 37, 100]\n",
        "def celsius_to_fahrenheit(celsius):\n",
        "    return (celsius * 9/5) + 32\n",
        "fahrenheit_temps = list(map(celsius_to_fahrenheit, celsius_temps))\n",
        "print(fahrenheit_temps)"
      ],
      "metadata": {
        "colab": {
          "base_uri": "https://localhost:8080/"
        },
        "id": "w7j_EEQZFAF-",
        "outputId": "f3b39495-00e0-4a3d-9fd2-38e282fd7727"
      },
      "execution_count": null,
      "outputs": [
        {
          "output_type": "stream",
          "name": "stdout",
          "text": [
            "[32.0, 68.0, 98.6, 212.0]\n"
          ]
        }
      ]
    },
    {
      "cell_type": "markdown",
      "source": [
        "10. Create a Python program that uses `filter()` to remove all the vowels from a given string."
      ],
      "metadata": {
        "id": "pkUJm6RvHC25"
      }
    },
    {
      "cell_type": "code",
      "source": [
        "def remove_vowels(input_string):\n",
        "    vowels = \"aeiouAEIOU\"\n",
        "    return ''.join(filter(lambda char: char not in vowels, input_string))\n",
        "input_string = \"Hello, World!\"\n",
        "result = remove_vowels(input_string)\n",
        "print(result)"
      ],
      "metadata": {
        "colab": {
          "base_uri": "https://localhost:8080/"
        },
        "id": "qLNUaNTwHZZm",
        "outputId": "c77fd36c-97ab-46a5-8684-200aaa003027"
      },
      "execution_count": null,
      "outputs": [
        {
          "output_type": "stream",
          "name": "stdout",
          "text": [
            "Hll, Wrld!\n"
          ]
        }
      ]
    },
    {
      "cell_type": "markdown",
      "source": [
        "11) Imagine an accounting routine used in a book shop. It works on a list with sublists, which look like this:\n",
        "\n",
        "Order Number    Book Title and Auther           Quantity          Price Per Item\n",
        "34587           learning Python, Mark Lutz          4                  40.95\n",
        "98762           Progamming Python, Mark Lutz        5                  56.80\n",
        "77226           Head First Python, Paul Barry       3                  32.95\n",
        "88112           Einfuhrung in Python3, Bernd Klein  3                  24.99\n",
        "\n",
        "Write a Python program, which returns a list with 2-tuples. Each tuple consists of the order number and the\n",
        "product of the price per item and the quantity. The product should be increased by 10,- € if the value of the\n",
        "order is smaller than 100,00 €.\n",
        "\n",
        "Write a Python program using lambda and map."
      ],
      "metadata": {
        "id": "J7D2sZw0Jt-K"
      }
    },
    {
      "cell_type": "code",
      "source": [
        "orders = [[34587, \"Learinig Python, Mark Lutz\", 4, 40.95], [98762, \"Programming Python, Mark Lutz\", 5, 56.80], [77226, \"Head First Python, Paul Barry\", 3, 32.95], [88112, \"Einfuhrung in Python3, Bernd Klein\", 3, 24.99]]\n",
        "result = list(map(lambda x:(x[0], x[2] * x[3] + (10 if x[2] * x[3] < 100 else 0)),orders))\n",
        "print(result)\n"
      ],
      "metadata": {
        "id": "oi2PP7AJazVn",
        "colab": {
          "base_uri": "https://localhost:8080/"
        },
        "outputId": "4ce754d8-1046-4410-e8ee-ce8b1fd45a7d"
      },
      "execution_count": 4,
      "outputs": [
        {
          "output_type": "stream",
          "name": "stdout",
          "text": [
            "[(34587, 163.8), (98762, 284.0), (77226, 108.85000000000001), (88112, 84.97)]\n"
          ]
        }
      ]
    },
    {
      "cell_type": "code",
      "source": [],
      "metadata": {
        "id": "lM2HElhDICwi"
      },
      "execution_count": null,
      "outputs": []
    }
  ]
}